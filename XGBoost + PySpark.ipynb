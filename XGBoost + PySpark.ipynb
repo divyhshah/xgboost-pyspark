{
 "cells": [
  {
   "cell_type": "code",
   "execution_count": null,
   "id": "dd7f2bdf",
   "metadata": {},
   "outputs": [],
   "source": [
    "import os\n",
    "import numpy as np\n",
    "import findspark\n",
    "findspark.init()\n",
    "from pyspark.sql import SparkSession\n",
    "import pyspark\n",
    "from pyspark.sql import functions as F"
   ]
  },
  {
   "cell_type": "code",
   "execution_count": null,
   "id": "5cf9a4b7",
   "metadata": {},
   "outputs": [],
   "source": [
    "os.environ['PYSPARK_SUBMIT_ARGS'] = \"\"\"\n",
    "    --jars xgboost4j-spark_2.12-1.2.0.jar,xgboost4j_2.12-1.2.0.jar\n",
    "    pyspark-shell\"\"\""
   ]
  },
  {
   "cell_type": "code",
   "execution_count": null,
   "id": "d2dbfe31",
   "metadata": {},
   "outputs": [],
   "source": [
    "spark = SparkSession\\\n",
    "        .builder\\\n",
    "        .appName(\"your_session_name\")\\\n",
    "        .master(\"local[*]\")\\\n",
    "        .getOrCreate()"
   ]
  },
  {
   "cell_type": "code",
   "execution_count": null,
   "id": "d48d4824",
   "metadata": {},
   "outputs": [],
   "source": [
    "spark.sparkContext.addPyFile(\"sparkxgb_1.24.zip\")"
   ]
  },
  {
   "cell_type": "markdown",
   "id": "72e0bab9",
   "metadata": {},
   "source": [
    "### Import supporting libs for Model development"
   ]
  },
  {
   "cell_type": "code",
   "execution_count": null,
   "id": "4a31e08c",
   "metadata": {},
   "outputs": [],
   "source": [
    "from pyspark.ml.feature import StringIndexer, VectorAssembler\n",
    "from sparkxgb.xgboost import XGBoostClassificationModel, XGBoostClassifier\n",
    "from pyspark.ml import Pipeline\n",
    "from pyspark.ml.evaluation import BinaryClassificationEvaluator, MulticlassClassificationEvaluator\n",
    "from pyspark.mllib.evaluation import MulticlassMetrics, BinaryClassificationMetrics"
   ]
  },
  {
   "cell_type": "code",
   "execution_count": null,
   "id": "70573302",
   "metadata": {},
   "outputs": [],
   "source": [
    "data = spark.read.parquet('train.parquet')"
   ]
  },
  {
   "cell_type": "code",
   "execution_count": null,
   "id": "51b4eb64",
   "metadata": {},
   "outputs": [],
   "source": [
    "data = data.withColumn('label', F.when(F.col('Loan_Status')=='Y', 1) \\\n",
    "                                            .otherwise(0)\n",
    "                                  )"
   ]
  },
  {
   "cell_type": "markdown",
   "id": "ec647fb6",
   "metadata": {},
   "source": [
    "#### StringIndexer to convert the categorical/string values to numeric form"
   ]
  },
  {
   "cell_type": "code",
   "execution_count": null,
   "id": "b90ab5b6",
   "metadata": {},
   "outputs": [],
   "source": [
    "index1 = StringIndexer().setInputCol(\"Gender\").setOutputCol(\"GenderIndex\").setHandleInvalid(\"keep\")\n",
    "index2 = StringIndexer().setInputCol(\"Married\").setOutputCol(\"MarriedIndex\").setHandleInvalid(\"keep\")\n",
    "index3 = StringIndexer().setInputCol(\"Education\").setOutputCol(\"EducationIndex\").setHandleInvalid(\"keep\")\n",
    "index4 = StringIndexer().setInputCol(\"Self_Employed\").setOutputCol(\"SelfEmployedIndex\").setHandleInvalid(\"keep\")\n",
    "index5 = StringIndexer().setInputCol(\"Property_Area\").setOutputCol(\"PropertyAreaIndex\").setHandleInvalid(\"keep\")"
   ]
  },
  {
   "cell_type": "code",
   "execution_count": null,
   "id": "c66aa0c2",
   "metadata": {},
   "outputs": [],
   "source": [
    "features = ['GenderIndex', 'MarriedIndex', 'EducationIndex', 'SelfEmployedIndex', 'PropertyAreaIndex',\n",
    "           'ApplicantIncome', 'CoapplicantIncome', 'LoanAmount', 'Loan_Amount_Term', 'Credit_History']\n",
    "\n",
    "vec_assembler = VectorAssembler(inputCols=features, outputCol='features', handleInvalid='keep')\n",
    "\n",
    "xgb = XGBoostClassifier(objective=\"binary:logistic\",seed=1712,\n",
    "                        featuresCol=\"features\",\n",
    "                        labelCol=\"label\",\n",
    "                        missing=0.0,\n",
    "                        )"
   ]
  },
  {
   "cell_type": "code",
   "execution_count": null,
   "id": "1064566d",
   "metadata": {},
   "outputs": [],
   "source": [
    "pipeline = Pipeline().setStages([index1, index2, index3, index4, index5, vec_assembler, xgb])"
   ]
  },
  {
   "cell_type": "code",
   "execution_count": null,
   "id": "1a37dfb2",
   "metadata": {},
   "outputs": [],
   "source": [
    "trainDF, testDF = train_data.randomSplit([0.7, 0.3], seed=1712)"
   ]
  },
  {
   "cell_type": "code",
   "execution_count": null,
   "id": "4086d172",
   "metadata": {},
   "outputs": [],
   "source": [
    "model = pipeline.fit(trainDF)"
   ]
  },
  {
   "cell_type": "code",
   "execution_count": null,
   "id": "3fcbceae",
   "metadata": {},
   "outputs": [],
   "source": [
    "predictions = model.transform(testDF)[['Loan_ID', 'prediction', 'label']]"
   ]
  },
  {
   "cell_type": "code",
   "execution_count": null,
   "id": "998d56fe",
   "metadata": {},
   "outputs": [],
   "source": [
    "predictions.show(5)"
   ]
  },
  {
   "cell_type": "markdown",
   "id": "ab95ea76",
   "metadata": {},
   "source": [
    "### Performance check"
   ]
  },
  {
   "cell_type": "code",
   "execution_count": null,
   "id": "ccfab06e",
   "metadata": {},
   "outputs": [],
   "source": [
    "from pyspark.sql.types import DoubleType\n",
    "\n",
    "predictionAndLabels = predictions.select(['prediction', 'label']\\\n",
    "                                  ).withColumn('label',F.col('label').cast(DoubleType())).rdd\n",
    "\n",
    "metrics = MulticlassMetrics(predictionAndLabels)\n",
    "\n",
    "cm = metrics.confusionMatrix().toArray()\n",
    "\n",
    "accuracy=(cm[0][0]+cm[1][1])/cm.sum()\n",
    "precision=(cm[1][1])/(cm[0][1]+cm[1][1])\n",
    "recall=(cm[1][1])/(cm[1][0]+cm[1][1])"
   ]
  },
  {
   "cell_type": "code",
   "execution_count": null,
   "id": "05473d17",
   "metadata": {},
   "outputs": [],
   "source": [
    "accuracy, precision, recall"
   ]
  },
  {
   "cell_type": "markdown",
   "id": "b80267f0",
   "metadata": {},
   "source": [
    "#### For Hyper Parameter Tuning\n",
    "- Be careful to execute this as it is very expensive and take very long time to run as it check on each and every combination of the params"
   ]
  },
  {
   "cell_type": "code",
   "execution_count": null,
   "id": "563b7005",
   "metadata": {},
   "outputs": [],
   "source": [
    "from pyspark.ml.tuning import ParamGridBuilder, CrossValidator, CrossValidatorModel\n",
    "from pyspark.ml.evaluation import BinaryClassificationEvaluator, MulticlassClassificationEvaluator"
   ]
  },
  {
   "cell_type": "code",
   "execution_count": null,
   "id": "965b4328",
   "metadata": {},
   "outputs": [],
   "source": [
    "xgbEval = BinaryClassificationEvaluator()"
   ]
  },
  {
   "cell_type": "code",
   "execution_count": null,
   "id": "fe5a3e02",
   "metadata": {},
   "outputs": [],
   "source": [
    "\"\"\"\n",
    "Model tuning using cross validation and param grid\n",
    "\"\"\"\n",
    "\n",
    "paramGrid = (ParamGridBuilder()\n",
    "             .addGrid(xgb.alpha,[1e-5, 1e-2, 0.1])\n",
    "             .addGrid(xgb.eta, [0.001, 0.01])\n",
    "             .addGrid(xgb.numRound, [150,160])\n",
    "             .addGrid(xgb.maxDepth, range(3,7,3))\n",
    "             .addGrid(xgb.minChildWeight, [3.0, 4.0])\n",
    "             .addGrid(xgb.gamma, [i/10.0 for i in range(0,2)])\n",
    "             .addGrid(xgb.colsampleBytree, [i/10.0 for i in range(3,6)])\n",
    "             .addGrid(xgb.subsample, [0.4,0.6])\n",
    "             .build())\n",
    "\n",
    "cv = CrossValidator(estimator=pipeline, estimatorParamMaps=paramGrid, evaluator=xgbEval, numFolds=3)\n",
    "cvModel = cv.fit(trainDF)\n",
    "cvPreds = cvModel.transform(testDF)\n",
    "xgbEval.evaluate(cvPreds)"
   ]
  },
  {
   "cell_type": "code",
   "execution_count": null,
   "id": "5af3fc33",
   "metadata": {},
   "outputs": [],
   "source": [
    "cvModel.bestModel.extractParamMap()"
   ]
  },
  {
   "cell_type": "code",
   "execution_count": null,
   "id": "915e9756",
   "metadata": {},
   "outputs": [],
   "source": []
  }
 ],
 "metadata": {
  "kernelspec": {
   "display_name": "Python 3 (ipykernel)",
   "language": "python",
   "name": "python3"
  },
  "language_info": {
   "codemirror_mode": {
    "name": "ipython",
    "version": 3
   },
   "file_extension": ".py",
   "mimetype": "text/x-python",
   "name": "python",
   "nbconvert_exporter": "python",
   "pygments_lexer": "ipython3",
   "version": "3.7.10"
  }
 },
 "nbformat": 4,
 "nbformat_minor": 5
}
